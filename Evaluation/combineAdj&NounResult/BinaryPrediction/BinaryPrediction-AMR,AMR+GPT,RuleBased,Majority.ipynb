{
 "cells": [
  {
   "cell_type": "code",
   "execution_count": 1,
   "metadata": {},
   "outputs": [],
   "source": [
    "import pandas as pd \n",
    "dfs=pd.read_excel(\"FinalDatasetAutoGPTTop3BasedTextualEntailmentRemoveArticleMetric(Majority).xlsx\")"
   ]
  },
  {
   "cell_type": "code",
   "execution_count": 2,
   "metadata": {},
   "outputs": [],
   "source": [
    "for index,i in enumerate(dfs['adj/noun']):\n",
    "    dfs.loc[index,'prediction2']=dfs.loc[index,'prediction']\n",
    "    if 'M' in dfs.loc[index,'prediction2'].split(\"//\"):\n",
    "        dfs.loc[index,'prediction2']='M'\n",
    "    elif 'NotM' in dfs.loc[index,'prediction2'].split(\"//\"):\n",
    "        dfs.loc[index,'prediction2']='NotM'"
   ]
  },
  {
   "cell_type": "code",
   "execution_count": 3,
   "metadata": {},
   "outputs": [],
   "source": [
    "for index,i in enumerate(dfs['adj/noun']):\n",
    "    if (dfs.loc[index,'prediction2']=='M') and ('A' in dfs.loc[index,'adj/noun-label'].split(\"//\") or 'N' in dfs.loc[index,'adj/noun-label'].split(\"//\")  or 'AB' in dfs.loc[index,'adj/noun-label'].split(\"//\")):\n",
    "        dfs.loc[index,'FinalLabel2']='True'\n",
    "    elif (dfs.loc[index,'prediction2']=='NotM') and ('A' not in dfs.loc[index,'adj/noun-label'].split(\"//\") and 'N' not in dfs.loc[index,'adj/noun-label'].split(\"//\") and 'AB' not in dfs.loc[index,'adj/noun-label'].split(\"//\")):\n",
    "        dfs.loc[index,'FinalLabel2']='True'\n",
    "    else:\n",
    "        dfs.loc[index,'FinalLabel2']='False'"
   ]
  },
  {
   "cell_type": "code",
   "execution_count": 4,
   "metadata": {},
   "outputs": [
    {
     "name": "stdout",
     "output_type": "stream",
     "text": [
      "True     370\n",
      "False    180\n",
      "Name: FinalLabel2, dtype: int64\n",
      "Accuracy= 0.6727272727272727\n",
      "370\n",
      "550\n",
      "PrecisionNotM= 0.6727272727272727\n",
      "370\n",
      "370\n",
      "RecallNotM= 1.0\n",
      "1.3454545454545455\n",
      "1.6727272727272728\n",
      "NotM F1= 0.8043478260869564\n"
     ]
    }
   ],
   "source": [
    "print(dfs['FinalLabel2'].value_counts())\n",
    "print(\"Accuracy= \"+str(dfs['FinalLabel2'].value_counts()['True']/len(dfs['FinalLabel2'])))\n",
    "print(len(dfs[(dfs['prediction2']=='NotM')& (dfs['FinalLabel2']=='True')]))\n",
    "print(len(dfs[(dfs['prediction2']=='NotM')]))\n",
    "print(\"PrecisionNotM= \"+str(len(dfs[(dfs['prediction2']=='NotM')& (dfs['FinalLabel2']=='True')])/len(dfs[(dfs['prediction2']=='NotM')])))\n",
    "precisionNotM=len(dfs[(dfs['prediction2']=='NotM')& (dfs['FinalLabel2']=='True')])/len(dfs[(dfs['prediction2']=='NotM')])\n",
    "print(len(dfs[(dfs['prediction2']=='NotM')& (dfs['FinalLabel2']=='True')]))\n",
    "print((len(dfs[(dfs['prediction2']=='NotM')& (dfs['FinalLabel2']=='True')])+len(dfs[(dfs['prediction2']!='NotM')& (dfs['FinalLabel2']=='False')])))\n",
    "print(\"RecallNotM= \"+str(len(dfs[(dfs['prediction2']=='NotM')& (dfs['FinalLabel2']=='True')])/(len(dfs[(dfs['prediction2']=='NotM')& (dfs['FinalLabel2']=='True')])+len(dfs[(dfs['prediction2']!='NotM')& (dfs['FinalLabel2']=='False')]))))\n",
    "recallNotM=len(dfs[(dfs['prediction2']=='NotM')& (dfs['FinalLabel2']=='True')])/(len(dfs[(dfs['prediction2']=='NotM')& (dfs['FinalLabel2']=='True')])+len(dfs[(dfs['prediction2']!='NotM')& (dfs['FinalLabel2']=='False')]))\n",
    "print(2 * (precisionNotM * recallNotM))\n",
    "print((precisionNotM + recallNotM))\n",
    "NotMF1=2 * (precisionNotM * recallNotM) / (precisionNotM + recallNotM)\n",
    "print(\"NotM F1= \"+str(NotMF1))"
   ]
  },
  {
   "cell_type": "code",
   "execution_count": 5,
   "metadata": {},
   "outputs": [],
   "source": [
    "dfs.to_excel(\"Majority.xlsx\")"
   ]
  },
  {
   "cell_type": "code",
   "execution_count": null,
   "metadata": {},
   "outputs": [],
   "source": []
  }
 ],
 "metadata": {
  "kernelspec": {
   "display_name": "Python 3",
   "language": "python",
   "name": "python3"
  },
  "language_info": {
   "codemirror_mode": {
    "name": "ipython",
    "version": 3
   },
   "file_extension": ".py",
   "mimetype": "text/x-python",
   "name": "python",
   "nbconvert_exporter": "python",
   "pygments_lexer": "ipython3",
   "version": "3.7.6"
  }
 },
 "nbformat": 4,
 "nbformat_minor": 4
}
