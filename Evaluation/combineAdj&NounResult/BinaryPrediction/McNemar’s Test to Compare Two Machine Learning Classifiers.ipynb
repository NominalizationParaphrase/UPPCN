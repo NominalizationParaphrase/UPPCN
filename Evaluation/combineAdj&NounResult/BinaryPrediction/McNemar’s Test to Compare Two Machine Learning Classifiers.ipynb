{
 "cells": [
  {
   "cell_type": "code",
   "execution_count": 10,
   "metadata": {
    "scrolled": false
   },
   "outputs": [
    {
     "name": "stdout",
     "output_type": "stream",
     "text": [
      "254\n",
      "233\n",
      "192\n",
      "62\n",
      "41\n",
      "255\n",
      "550\n",
      "statistic=41.000000, p-value=0.048234\n",
      "Different proportions of errors (reject H0)\n"
     ]
    }
   ],
   "source": [
    "import pandas as pd\n",
    "dfs=pd.read_excel(\"FinalDatasetAutoGPTTop3BasedTextualEntailmentWordOrderMetric(AMR).xlsx\")\n",
    "dfs2=pd.read_excel(\"FinalDatasetAutoGPTTop3BasedTextualEntailmentWordOrderMetric(All+Lexcomp).xlsx\")\n",
    "print(len(dfs[dfs['FinalLabel']==True]))\n",
    "print(len(dfs2[dfs2['FinalLabel']==True]))\n",
    "YesYes=0\n",
    "for index,i in enumerate(dfs['FinalLabel']):\n",
    "    if dfs.loc[index,'FinalLabel']==True and dfs2.loc[index,'FinalLabel']==True:\n",
    "        YesYes=YesYes+1\n",
    "print(YesYes)\n",
    "YesNo=0\n",
    "for index,i in enumerate(dfs['FinalLabel']):\n",
    "    if dfs.loc[index,'FinalLabel']==True and dfs2.loc[index,'FinalLabel']==False:\n",
    "        YesNo=YesNo+1\n",
    "print(YesNo)\n",
    "NoYes=0\n",
    "for index,i in enumerate(dfs['FinalLabel']):\n",
    "    if dfs.loc[index,'FinalLabel']==False and dfs2.loc[index,'FinalLabel']==True:\n",
    "        NoYes=NoYes+1\n",
    "print(NoYes)\n",
    "NoNo=0\n",
    "for index,i in enumerate(dfs['FinalLabel']):\n",
    "    if dfs.loc[index,'FinalLabel']==False and dfs2.loc[index,'FinalLabel']==False:\n",
    "        NoNo=NoNo+1\n",
    "print(NoNo)\n",
    "print(YesYes+YesNo+NoYes+NoNo)\n",
    "from statsmodels.stats.contingency_tables import mcnemar\n",
    "# define contingency table\n",
    "table = [[YesYes, YesNo],\n",
    "\t\t [NoYes, NoNo]]\n",
    "# calculate mcnemar test\n",
    "result = mcnemar(table, exact=True)\n",
    "# summarize the finding\n",
    "print('statistic=%.6f, p-value=%.6f' % (result.statistic, result.pvalue))\n",
    "# interpret the p-value\n",
    "alpha = 0.05\n",
    "if result.pvalue > alpha:\n",
    "\tprint('Same proportions of errors (fail to reject H0)')\n",
    "else:\n",
    "\tprint('Different proportions of errors (reject H0)')"
   ]
  },
  {
   "cell_type": "code",
   "execution_count": 22,
   "metadata": {},
   "outputs": [
    {
     "name": "stdout",
     "output_type": "stream",
     "text": [
      "370\n",
      "430\n",
      "345\n",
      "25\n",
      "85\n",
      "95\n",
      "550\n",
      "statistic=25.000000, p-value=0.000000\n",
      "Different proportions of errors (reject H0)\n"
     ]
    }
   ],
   "source": [
    "import pandas as pd\n",
    "dfs=pd.read_excel(\"Majority.xlsx\")\n",
    "dfs2=pd.read_excel(\"AMR.xlsx\")\n",
    "print(len(dfs[dfs['FinalLabel2']==True]))\n",
    "print(len(dfs2[dfs2['FinalLabel2']==True]))\n",
    "YesYes=0\n",
    "for index,i in enumerate(dfs['FinalLabel2']):\n",
    "    if dfs.loc[index,'FinalLabel2']==True and dfs2.loc[index,'FinalLabel2']==True:\n",
    "        YesYes=YesYes+1\n",
    "print(YesYes)\n",
    "YesNo=0\n",
    "for index,i in enumerate(dfs['FinalLabel2']):\n",
    "    if dfs.loc[index,'FinalLabel2']==True and dfs2.loc[index,'FinalLabel2']==False:\n",
    "        YesNo=YesNo+1\n",
    "print(YesNo)\n",
    "NoYes=0\n",
    "for index,i in enumerate(dfs['FinalLabel2']):\n",
    "    if dfs.loc[index,'FinalLabel2']==False and dfs2.loc[index,'FinalLabel2']==True:\n",
    "        NoYes=NoYes+1\n",
    "print(NoYes)\n",
    "NoNo=0\n",
    "for index,i in enumerate(dfs['FinalLabel2']):\n",
    "    if dfs.loc[index,'FinalLabel2']==False and dfs2.loc[index,'FinalLabel2']==False:\n",
    "        NoNo=NoNo+1\n",
    "print(NoNo)\n",
    "print(YesYes+YesNo+NoYes+NoNo)\n",
    "from statsmodels.stats.contingency_tables import mcnemar\n",
    "# define contingency table\n",
    "table = [[YesYes, YesNo],\n",
    "         [NoYes, NoNo]]\n",
    "# calculate mcnemar test\n",
    "result = mcnemar(table, exact=True)\n",
    "# summarize the finding\n",
    "print('statistic=%.6f, p-value=%.6f' % (result.statistic, result.pvalue))\n",
    "# interpret the p-value\n",
    "alpha = 0.05\n",
    "if result.pvalue > alpha:\n",
    "    print('Same proportions of errors (fail to reject H0)')\n",
    "else:\n",
    "    print('Different proportions of errors (reject H0)')"
   ]
  },
  {
   "cell_type": "code",
   "execution_count": null,
   "metadata": {},
   "outputs": [],
   "source": []
  }
 ],
 "metadata": {
  "kernelspec": {
   "display_name": "Python 3",
   "language": "python",
   "name": "python3"
  },
  "language_info": {
   "codemirror_mode": {
    "name": "ipython",
    "version": 3
   },
   "file_extension": ".py",
   "mimetype": "text/x-python",
   "name": "python",
   "nbconvert_exporter": "python",
   "pygments_lexer": "ipython3",
   "version": "3.7.6"
  }
 },
 "nbformat": 4,
 "nbformat_minor": 4
}
