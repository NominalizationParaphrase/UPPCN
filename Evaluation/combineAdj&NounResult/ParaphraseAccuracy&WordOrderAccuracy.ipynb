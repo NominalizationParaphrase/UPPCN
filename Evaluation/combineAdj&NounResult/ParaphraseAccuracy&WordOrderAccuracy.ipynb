{
 "cells": [
  {
   "cell_type": "code",
   "execution_count": 1,
   "metadata": {},
   "outputs": [],
   "source": [
    "import os\n",
    "import pandas as pd\n",
    "files = os.listdir()"
   ]
  },
  {
   "cell_type": "code",
   "execution_count": 2,
   "metadata": {},
   "outputs": [],
   "source": [
    "files=files[0:-1]"
   ]
  },
  {
   "cell_type": "code",
   "execution_count": 3,
   "metadata": {},
   "outputs": [],
   "source": [
    "typeList=['RemoveArticle','WordOrder']"
   ]
  },
  {
   "cell_type": "code",
   "execution_count": 4,
   "metadata": {
    "scrolled": true
   },
   "outputs": [
    {
     "name": "stdout",
     "output_type": "stream",
     "text": [
      "Majority RemoveArticle\n",
      "False    405\n",
      "True     145\n",
      "Name: FinalLabel, dtype: int64\n",
      "Accuracy= 0.2636363636363636\n",
      "Majority WordOrder\n",
      "False    343\n",
      "True     207\n",
      "Name: FinalLabel, dtype: int64\n",
      "Accuracy= 0.37636363636363634\n",
      "AMR+GPT RemoveArticle\n",
      "False    385\n",
      "True     165\n",
      "Name: FinalLabel, dtype: int64\n",
      "Accuracy= 0.3\n",
      "AMR+GPT WordOrder\n",
      "False    321\n",
      "True     229\n",
      "Name: FinalLabel, dtype: int64\n",
      "Accuracy= 0.4163636363636364\n",
      "RuleBased RemoveArticle\n",
      "False    399\n",
      "True     151\n",
      "Name: FinalLabel, dtype: int64\n",
      "Accuracy= 0.27454545454545454\n",
      "RuleBased WordOrder\n",
      "False    339\n",
      "True     211\n",
      "Name: FinalLabel, dtype: int64\n",
      "Accuracy= 0.3836363636363636\n",
      "BaselineNone RemoveArticle\n",
      "False    382\n",
      "True     168\n",
      "Name: FinalLabel, dtype: int64\n",
      "Accuracy= 0.3054545454545455\n",
      "BaselineNone WordOrder\n",
      "False    331\n",
      "True     219\n",
      "Name: FinalLabel, dtype: int64\n",
      "Accuracy= 0.3981818181818182\n",
      "Gold RemoveArticle\n",
      "True     325\n",
      "False    225\n",
      "Name: FinalLabel, dtype: int64\n",
      "Accuracy= 0.5909090909090909\n",
      "Gold WordOrder\n",
      "True     387\n",
      "False    163\n",
      "Name: FinalLabel, dtype: int64\n",
      "Accuracy= 0.7036363636363636\n",
      "All+Lexcomp RemoveArticle\n",
      "False    367\n",
      "True     183\n",
      "Name: FinalLabel, dtype: int64\n",
      "Accuracy= 0.3327272727272727\n",
      "All+Lexcomp WordOrder\n",
      "False    317\n",
      "True     233\n",
      "Name: FinalLabel, dtype: int64\n",
      "Accuracy= 0.42363636363636364\n",
      "AMR RemoveArticle\n",
      "False    359\n",
      "True     191\n",
      "Name: FinalLabel, dtype: int64\n",
      "Accuracy= 0.3472727272727273\n",
      "AMR WordOrder\n",
      "False    296\n",
      "True     254\n",
      "Name: FinalLabel, dtype: int64\n",
      "Accuracy= 0.4618181818181818\n",
      "All RemoveArticle\n",
      "False    375\n",
      "True     175\n",
      "Name: FinalLabel, dtype: int64\n",
      "Accuracy= 0.3181818181818182\n",
      "All WordOrder\n",
      "False    321\n",
      "True     229\n",
      "Name: FinalLabel, dtype: int64\n",
      "Accuracy= 0.4163636363636364\n"
     ]
    }
   ],
   "source": [
    "resultDf=pd.DataFrame()\n",
    "num=0\n",
    "for i in files:\n",
    "    if i !='GPTTop3.ipynb' and i!='result':\n",
    "        for types in typeList:\n",
    "            print(i,types)\n",
    "            dfs=pd.read_excel(\"./\"+i+\"/FinalDatasetAutoGPTTop3BasedTextualEntailment\"+types+\"Metric(adj).xlsx\",index_columns=0)\n",
    "            dfs2=pd.read_excel(\"./\"+i+\"/FinalDatasetAutoGPTTop3BasedTextualEntailment\"+types+\"Metric(noun).xlsx\",index_columns=0)\n",
    "            dfs=dfs.append(dfs2).reset_index(drop=True)\n",
    "            print(dfs['FinalLabel'].value_counts())\n",
    "            print(\"Accuracy= \"+str(dfs['FinalLabel'].value_counts()[True]/len(dfs['FinalLabel'])))\n",
    "            dfs.to_excel(\"FinalDatasetAutoGPTTop3BasedTextualEntailment\"+types+\"Metric(\"+i+\").xlsx\")\n",
    "            num=num+1\n",
    "            resultDf.loc[num,'model']=i\n",
    "            resultDf.loc[num,'type']=types\n",
    "            resultDf.loc[num,'True']=dfs['FinalLabel'].value_counts()[True]\n",
    "            resultDf.loc[num,'False']=dfs['FinalLabel'].value_counts()[False]\n",
    "            resultDf.loc[num,'Accuracy']=str(dfs['FinalLabel'].value_counts()[True]/len(dfs['FinalLabel']))\n",
    "resultDf=resultDf.sort_values('type')\n",
    "resultDf.to_excel(\"result.xlsx\")"
   ]
  },
  {
   "cell_type": "code",
   "execution_count": null,
   "metadata": {},
   "outputs": [],
   "source": []
  }
 ],
 "metadata": {
  "kernelspec": {
   "display_name": "Python 3",
   "language": "python",
   "name": "python3"
  },
  "language_info": {
   "codemirror_mode": {
    "name": "ipython",
    "version": 3
   },
   "file_extension": ".py",
   "mimetype": "text/x-python",
   "name": "python",
   "nbconvert_exporter": "python",
   "pygments_lexer": "ipython3",
   "version": "3.7.6"
  }
 },
 "nbformat": 4,
 "nbformat_minor": 4
}
