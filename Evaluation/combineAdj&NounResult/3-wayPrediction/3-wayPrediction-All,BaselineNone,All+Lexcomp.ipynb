{
 "cells": [
  {
   "cell_type": "code",
   "execution_count": 1,
   "metadata": {},
   "outputs": [],
   "source": [
    "import pandas as pd \n",
    "dfs=pd.read_excel(\"FinalDatasetAutoGPTTop3BasedTextualEntailmentRemoveArticleMetric(All+Lexcomp).xlsx\")"
   ]
  },
  {
   "cell_type": "code",
   "execution_count": 2,
   "metadata": {},
   "outputs": [],
   "source": [
    "#dfs=dfs[375:].reset_index()"
   ]
  },
  {
   "cell_type": "code",
   "execution_count": 3,
   "metadata": {},
   "outputs": [],
   "source": [
    "for index,i in enumerate(dfs['adj/noun']):\n",
    "    if dfs.loc[index,'adj/noun-label']=='A' and (dfs.loc[index,'adverb']=='X' or pd.isnull(dfs.loc[index,'adverb'])):\n",
    "        dfs.loc[index,'arg0']=''\n",
    "        dfs.loc[index,'arg1']=''\n",
    "        dfs.loc[index,'V']=''\n",
    "        dfs.loc[index,'baseV']=''\n",
    "        dfs.loc[index,'PP']=''\n",
    "    if dfs.loc[index,'adj/noun-label']=='A' and not pd.isnull(dfs.loc[index,'adverb']):\n",
    "        if dfs.loc[index,'adverb']!='X':                                                    \n",
    "            dfs.loc[index,'adj/noun-label']='AB'"
   ]
  },
  {
   "cell_type": "code",
   "execution_count": 4,
   "metadata": {},
   "outputs": [],
   "source": [
    "for index,i in enumerate(dfs['adj/noun']):\n",
    "    #dfs.loc[index,'prediction2']=dfs.loc[index,'prediction']\n",
    "    if 'M' in dfs.loc[index,'prediction2'].split(\"//\"):\n",
    "        dfs.loc[index,'prediction2']='M'\n",
    "    elif 'NotM' in dfs.loc[index,'prediction2'].split(\"//\"):\n",
    "        dfs.loc[index,'prediction2']='NotM'"
   ]
  },
  {
   "cell_type": "code",
   "execution_count": 5,
   "metadata": {},
   "outputs": [],
   "source": [
    "for index,i in enumerate(dfs['adj/noun']):\n",
    "    if not pd.isnull(dfs.loc[index,'HighestScorePattern']):\n",
    "        if 'OVB' in dfs.loc[index,'HighestScorePattern'].split(\"//\") or 'BVO' in dfs.loc[index,'HighestScorePattern'].split(\"//\") or 'VOB' in dfs.loc[index,'HighestScorePattern'].split(\"//\") or 'OBV' in dfs.loc[index,'HighestScorePattern'].split(\"//\"):\n",
    "            dfs.loc[index,'prediction2']='MB'"
   ]
  },
  {
   "cell_type": "code",
   "execution_count": 6,
   "metadata": {},
   "outputs": [],
   "source": [
    "for index,i in enumerate(dfs['adj/noun']):\n",
    "    if (dfs.loc[index,'prediction2']=='M') and (('A' in dfs.loc[index,'adj/noun-label'].split(\"//\") or 'N' in dfs.loc[index,'adj/noun-label'].split(\"//\")) and 'AB' not in dfs.loc[index,'adj/noun-label'].split(\"//\")) :\n",
    "        dfs.loc[index,'FinalLabel2']='True'\n",
    "    elif (dfs.loc[index,'prediction2']=='MB') and 'AB' in dfs.loc[index,'adj/noun-label'].split(\"//\"):\n",
    "        dfs.loc[index,'FinalLabel2']='True'                                     \n",
    "    elif (dfs.loc[index,'prediction2']=='NotM') and ('A' not in dfs.loc[index,'adj/noun-label'].split(\"//\") and 'N' not in dfs.loc[index,'adj/noun-label'].split(\"//\") and 'AB' not in dfs.loc[index,'adj/noun-label'].split(\"//\")):\n",
    "        dfs.loc[index,'FinalLabel2']='True'\n",
    "    else:\n",
    "        dfs.loc[index,'FinalLabel2']='False'"
   ]
  },
  {
   "cell_type": "code",
   "execution_count": 7,
   "metadata": {},
   "outputs": [
    {
     "name": "stdout",
     "output_type": "stream",
     "text": [
      "True     371\n",
      "False    179\n",
      "Name: FinalLabel2, dtype: int64\n",
      "Accuracy= 0.6745454545454546\n"
     ]
    }
   ],
   "source": [
    "print(dfs['FinalLabel2'].value_counts())\n",
    "print(\"Accuracy= \"+str(dfs['FinalLabel2'].value_counts()['True']/len(dfs['FinalLabel2'])))\n",
    "dfs.to_excel(\"test.xlsx\")"
   ]
  },
  {
   "cell_type": "code",
   "execution_count": 8,
   "metadata": {},
   "outputs": [],
   "source": [
    "for index,i in enumerate(dfs['adj/noun-label']):\n",
    "    if 'A' in dfs.loc[index,'adj/noun-label'].split(\"//\") or 'N' in dfs.loc[index,'adj/noun-label'].split(\"//\"):\n",
    "        dfs.loc[index,'label']='M'\n",
    "    elif 'AB' in dfs.loc[index,'adj/noun-label'].split(\"//\"):\n",
    "        dfs.loc[index,'label']='MB'\n",
    "    else:\n",
    "        dfs.loc[index,'label']='NotM'"
   ]
  },
  {
   "cell_type": "code",
   "execution_count": 9,
   "metadata": {},
   "outputs": [],
   "source": [
    "dfs.to_excel(\"All+Lexcomp3-way.xlsx\")"
   ]
  },
  {
   "cell_type": "code",
   "execution_count": 10,
   "metadata": {},
   "outputs": [
    {
     "data": {
      "text/html": [
       "<div>\n",
       "<style scoped>\n",
       "    .dataframe tbody tr th:only-of-type {\n",
       "        vertical-align: middle;\n",
       "    }\n",
       "\n",
       "    .dataframe tbody tr th {\n",
       "        vertical-align: top;\n",
       "    }\n",
       "\n",
       "    .dataframe thead th {\n",
       "        text-align: right;\n",
       "    }\n",
       "</style>\n",
       "<table border=\"1\" class=\"dataframe\">\n",
       "  <thead>\n",
       "    <tr style=\"text-align: right;\">\n",
       "      <th>prediction2</th>\n",
       "      <th>M</th>\n",
       "      <th>MB</th>\n",
       "      <th>NotM</th>\n",
       "    </tr>\n",
       "    <tr>\n",
       "      <th>label</th>\n",
       "      <th></th>\n",
       "      <th></th>\n",
       "      <th></th>\n",
       "    </tr>\n",
       "  </thead>\n",
       "  <tbody>\n",
       "    <tr>\n",
       "      <th>M</th>\n",
       "      <td>33</td>\n",
       "      <td>12</td>\n",
       "      <td>86</td>\n",
       "    </tr>\n",
       "    <tr>\n",
       "      <th>MB</th>\n",
       "      <td>10</td>\n",
       "      <td>20</td>\n",
       "      <td>19</td>\n",
       "    </tr>\n",
       "    <tr>\n",
       "      <th>NotM</th>\n",
       "      <td>21</td>\n",
       "      <td>31</td>\n",
       "      <td>318</td>\n",
       "    </tr>\n",
       "  </tbody>\n",
       "</table>\n",
       "</div>"
      ],
      "text/plain": [
       "prediction2   M  MB  NotM\n",
       "label                    \n",
       "M            33  12    86\n",
       "MB           10  20    19\n",
       "NotM         21  31   318"
      ]
     },
     "execution_count": 10,
     "metadata": {},
     "output_type": "execute_result"
    }
   ],
   "source": [
    " pd.crosstab(dfs['label'],dfs['prediction2'])"
   ]
  },
  {
   "cell_type": "code",
   "execution_count": null,
   "metadata": {},
   "outputs": [],
   "source": []
  }
 ],
 "metadata": {
  "kernelspec": {
   "display_name": "Python 3",
   "language": "python",
   "name": "python3"
  },
  "language_info": {
   "codemirror_mode": {
    "name": "ipython",
    "version": 3
   },
   "file_extension": ".py",
   "mimetype": "text/x-python",
   "name": "python",
   "nbconvert_exporter": "python",
   "pygments_lexer": "ipython3",
   "version": "3.7.6"
  }
 },
 "nbformat": 4,
 "nbformat_minor": 4
}
